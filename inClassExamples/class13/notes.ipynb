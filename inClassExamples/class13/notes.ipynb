{
 "cells": [
  {
   "cell_type": "markdown",
   "metadata": {},
   "source": [
    "# Null Hypothesis, p-value, outliers\n",
    "\n",
    "Gaussian: increasing x shifts right, decreasing shifts left, sigma increases/decrease height+width\n",
    "\n",
    "Null Hypothesis\n",
    "    when experiments are formed, there are expectations for what the results should be (expectations = what the distribution of measurements of an experiment 'should be')\n",
    "\n",
    "    null hypothesis = how different results can be from expectations\n",
    "\n",
    "p-value\n",
    "    the statistical probability that our experimental results are consistent with the Null Hypothesis\n",
    "\n",
    "    large values -> high probability experimental results consistent with prior results\n",
    "\n",
    "    small values -> low probability\n",
    "\n",
    "    can apply test to find it, p-value signigicantly lower than 1 likely different distributions, but can be difficult depending on number of samples taken\n",
    "\n",
    "    if null hypothesis is true, p-value is prob of obtaining the observed data (similar statistical properties)\n",
    "\n",
    "    often considered p<0.05 unlikely data drawn from same distribution\n",
    "    however finding a value of p<0.05 is insufficient to completely reject the null hypothesis\n",
    "    bc less samples = higher p-value\n",
    "\n",
    "T-test\n",
    "    for gaussian random variates, \n",
    "\n",
    "    from scipy.stats import ttest_ind\n",
    "    p = ttest_ind(x0, x1, equal_var = False)\n",
    "\n",
    "Outliers\n",
    "    experiemntal result distinctively outside the distribution of expected values\n",
    "\n",
    "    no one def or test whether a given sample is an outlier\n",
    "\n",
    "Chauvernet's criterion\n",
    "    test to guess whetehr an outlier should be considered 'fishy'\n",
    "        1) computer probability x of randomly drawing this outlier\n",
    "        2) multiply by the number of samples N we have drawyn\n",
    "        3) if product Nx<0.5, then reject the outlier\n",
    "        4) Otherwise, can't be certain outlifer is not part of our distribution\n",
    "\n",
    "\n",
    "\n"
   ]
  }
 ],
 "metadata": {
  "language_info": {
   "name": "python"
  }
 },
 "nbformat": 4,
 "nbformat_minor": 2
}
