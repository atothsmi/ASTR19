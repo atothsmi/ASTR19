{
 "cells": [
  {
   "cell_type": "markdown",
   "metadata": {},
   "source": [
    "# Make an example histogram plot\n",
    "\n",
    "Given some randomly distributed data, bin the data to create a histogram using matplotlib"
   ]
  },
  {
   "cell_type": "code",
   "execution_count": null,
   "metadata": {},
   "outputs": [],
   "source": [
    "import numpy as np\n",
    "import matplotlib.pyplot as plt\n",
    "%matplotlib inline"
   ]
  },
  {
   "cell_type": "code",
   "execution_count": null,
   "metadata": {},
   "outputs": [],
   "source": [
    "#number of random data points to generate\n",
    "n = 500000\n",
    "\n",
    "#genreate random data (gaussian)\n",
    "x = np.random.randn(n)\n",
    "\n",
    "#create the histogram bins\n",
    "width = .1\n",
    "histmin = np.floor(min(x))  #round to closest smaller integer\n",
    "histmax = np.ceil(max(x))   #round to closest higher integer\n",
    "\n",
    "bins = np.arange(histmin, histmax, width)\n",
    "\n",
    "#create historgram\n",
    "plt.hist(x, bins = bins, alpha = 0.5, edgecolor = 'black')\n",
    "plt.xlabel('x')\n",
    "plt.ylabel('num per bin')\n",
    "\n",
    "\n",
    "plt.show()"
   ]
  }
 ],
 "metadata": {
  "kernelspec": {
   "display_name": "Python 3",
   "language": "python",
   "name": "python3"
  },
  "language_info": {
   "codemirror_mode": {
    "name": "ipython",
    "version": 3
   },
   "file_extension": ".py",
   "mimetype": "text/x-python",
   "name": "python",
   "nbconvert_exporter": "python",
   "pygments_lexer": "ipython3",
   "version": "3.10.11"
  }
 },
 "nbformat": 4,
 "nbformat_minor": 2
}
