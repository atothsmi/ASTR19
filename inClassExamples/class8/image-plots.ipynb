{
 "cells": [
  {
   "cell_type": "markdown",
   "metadata": {},
   "source": [
    "#An example notebook showing how to make simple image plots\n",
    "\n",
    "Define an image and then use matplotlib imshow() to plot it"
   ]
  },
  {
   "cell_type": "code",
   "execution_count": null,
   "metadata": {},
   "outputs": [],
   "source": [
    "import numpy as np\n",
    "import matplotlib.pyplot as plt\n",
    "from matplotlib import cm \n",
    "%matplotlib inline"
   ]
  },
  {
   "cell_type": "code",
   "execution_count": null,
   "metadata": {},
   "outputs": [],
   "source": [
    "#create an empty figure of size 7x7 inches\n",
    "fig = plt.figure(figsize=(7, 7))\n",
    "\n",
    "#create a single panel on that figure\n",
    "ax = fig.add_subplot(1,1,1)\n",
    "\n",
    "#generate x and y corrdinates\n",
    "x = np.linspace(0, 1*np.pi, 200)\n",
    "y = np.linspace(0, 2*np.pi, 200)\n",
    "\n",
    "#create all combinations of x,y on a grid\n",
    "x, y = np.meshgrid(x,y)\n",
    "\n",
    "#create some z data z = -sin(x)*sin(y)\n",
    "z = -np.sin(x)*np.sin(y)\n",
    "\n",
    "#show the image\n",
    "ax = plt.imshow(z, cmap=cm.turbo, origin='lower')\n",
    "\n",
    "#create a colorbar\n",
    "cbar = fig.colorbar(ax)\n",
    "\n",
    "#create labels\n",
    "plt.xlabel('X label')\n",
    "plt.ylabel('Y label')\n",
    "cbar.ax.get_yaxis().labelpad=15\n",
    "cbar.ax.set_ylabel('Z Label', rotation=270)\n",
    "\n",
    "plt.savefig(\"image-plot.png\", bbox_inches = 'tight', facecolor='white')"
   ]
  }
 ],
 "metadata": {
  "kernelspec": {
   "display_name": "Python 3",
   "language": "python",
   "name": "python3"
  },
  "language_info": {
   "codemirror_mode": {
    "name": "ipython",
    "version": 3
   },
   "file_extension": ".py",
   "mimetype": "text/x-python",
   "name": "python",
   "nbconvert_exporter": "python",
   "pygments_lexer": "ipython3",
   "version": "3.10.11"
  }
 },
 "nbformat": 4,
 "nbformat_minor": 2
}
