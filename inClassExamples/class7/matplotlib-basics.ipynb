{
 "cells": [
  {
   "cell_type": "markdown",
   "id": "50797ce9-51de-4d10-a8d8-0763e8c55094",
   "metadata": {},
   "source": [
    "#Plotting basics\n",
    "\n",
    "First, we import numpy and matplotlib"
   ]
  },
  {
   "cell_type": "code",
   "execution_count": null,
   "id": "9f2d1dc1-c2a8-4ac1-b3e5-c932e73a13d7",
   "metadata": {},
   "outputs": [],
   "source": [
    "import numpy as np\n",
    "import matplotlib.pyplot as plt\n",
    "\n",
    "#this special line tells jupyter notebook to display plots\n",
    "#in the notebook, just bellow the cell with plt.show()\n",
    "%matplotlib inline"
   ]
  },
  {
   "cell_type": "markdown",
   "id": "2499ac8f-7f64-4a4b-87d6-eaaec29ee6ee",
   "metadata": {},
   "source": [
    "Then, define the data we want to plot"
   ]
  },
  {
   "cell_type": "code",
   "execution_count": null,
   "id": "4b2a3b9c-1e03-4652-90a5-b8dc30125bd1",
   "metadata": {},
   "outputs": [],
   "source": [
    "#define integer n\n",
    "n = 100\n",
    "\n",
    "#create an array of n points from 0 to 2*pi (inclusive)\n",
    "x = np.linspace(0, 2*np.pi, n)\n",
    "\n",
    "#y = sin(x)\n",
    "y = np.sin(x)"
   ]
  },
  {
   "cell_type": "markdown",
   "id": "abf90383-6ff2-4832-abe0-dbd4e0af2ac0",
   "metadata": {},
   "source": [
    "Then make the plot!"
   ]
  },
  {
   "cell_type": "code",
   "execution_count": null,
   "id": "bc319ac5-77c0-4f8e-ab40-b7bba2370b0b",
   "metadata": {},
   "outputs": [],
   "source": [
    "#create the elements of the plot\n",
    "plt.plot(x, y)\n",
    "plt.xlabel('x')\n",
    "plt.ylabel('sin(x)')\n",
    "\n",
    "#save figure as image\n",
    "#'tight' option removes extra white space\n",
    "#dpi = dots per inch (resolution)\n",
    "plt.savefig('sinx.png', bbox_inches='tight', dpi=100)\n",
    "\n",
    "#show the plot\n",
    "plt.show()"
   ]
  },
  {
   "cell_type": "code",
   "execution_count": null,
   "id": "cc09a9bf-677f-46e1-b67b-2a91ab996677",
   "metadata": {},
   "outputs": [],
   "source": []
  }
 ],
 "metadata": {
  "kernelspec": {
   "display_name": "Python 3 (ipykernel)",
   "language": "python",
   "name": "python3"
  },
  "language_info": {
   "codemirror_mode": {
    "name": "ipython",
    "version": 3
   },
   "file_extension": ".py",
   "mimetype": "text/x-python",
   "name": "python",
   "nbconvert_exporter": "python",
   "pygments_lexer": "ipython3",
   "version": "3.10.11"
  }
 },
 "nbformat": 4,
 "nbformat_minor": 5
}
