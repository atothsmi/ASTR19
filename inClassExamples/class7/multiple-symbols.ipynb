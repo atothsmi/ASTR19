{
 "cells": [
  {
   "cell_type": "markdown",
   "id": "cc799da7-1054-4c2f-b06a-79710ef16894",
   "metadata": {},
   "source": [
    "# Plot multiple symbols on one plot\n",
    "\n",
    "use matplotlib to plot multiple symbols on one plot. See PME Ch. 10"
   ]
  },
  {
   "cell_type": "code",
   "execution_count": null,
   "id": "c272208c-2395-422a-b314-57a3984f8d57",
   "metadata": {},
   "outputs": [],
   "source": [
    "import numpy as np\n",
    "import matplotlib.pyplot as plt\n",
    "\n",
    "%matplotlib inline"
   ]
  },
  {
   "cell_type": "code",
   "execution_count": null,
   "id": "e0c6abad-2b65-4b46-bb5d-3441212c2545",
   "metadata": {},
   "outputs": [],
   "source": [
    "# Multiple data sets on one plot with default plotting options\n",
    "\n",
    "n = 50\n",
    "x = np.linspace(1, 19, n)\n",
    "y1 = np.log10(x)\n",
    "y2 = 0.01 * x**2\n",
    "y3 = 0.9 * np.sin(x)\n",
    "\n",
    "plt.plot(x, y1)\n",
    "plt.plot(x, y2)\n",
    "plt.plot(x, y3)\n",
    "plt.plot(x, y1 + y2 + y3)\n",
    "\n",
    "plt.show()"
   ]
  },
  {
   "cell_type": "code",
   "execution_count": null,
   "id": "a202ec1b-8c54-4679-8d54-b943b6841e66",
   "metadata": {},
   "outputs": [],
   "source": [
    "# add format specifiers of plotted data (color, dash type, markers...)\n",
    "plt.plot(x, y1, color='r', linestyle='-')\n",
    "plt.plot(x, y2, color='b', linestype='', marker='^')\n",
    "plt.plot(x, y3, color='g', marker='o')\n",
    "plt.plot(x, y1 + y2 + y3, marker='+')\n",
    "\n"
   ]
  },
  {
   "cell_type": "code",
   "execution_count": null,
   "id": "dc12719d-c859-4dc4-8f21-cb9f69bf87db",
   "metadata": {},
   "outputs": [],
   "source": [
    "# use condensed format specifier \n",
    "# overwrites all formats\n",
    "\n",
    "# red (r) line (-)\n",
    "plt.plot(x, y1, 'r-')\n",
    "\n",
    "# blue (b) triangle up (^)\n",
    "plt.plot(x, y2, 'b^')\n",
    "\n",
    "# green (g) circle (o)\n",
    "plt.plot(x, y3, 'go')\n",
    "\n",
    "#default color () crosses (+)\n",
    "plt.plot(x, y1 + y2 + y3, '+')"
   ]
  },
  {
   "cell_type": "code",
   "execution_count": null,
   "id": "f1c5a493-bc00-4063-b974-96feb1e77a80",
   "metadata": {},
   "outputs": [],
   "source": [
    "# add legend (labels) and save the figure\n",
    "\n",
    "# red (r) line (-)\n",
    "plt.plot(x, y1, 'r-', label = 'y1')\n",
    "\n",
    "# blue (b) triangle up (^)\n",
    "plt.plot(x, y2, 'b^', label = 'y2')\n",
    "\n",
    "# green (g) circle (o)\n",
    "plt.plot(x, y3, 'go', label = 'y3')\n",
    "\n",
    "#default color () crosses (+)\n",
    "plt.plot(x, y1 + y2 + y3, '+', label = 'y1+y2+y3')\n",
    "\n",
    "#loc = 0 tries to find the best location\n",
    "plt.legend(loc = 0)\n",
    "\n",
    "plt.savefig(\"multiple-symbols.png\", bbox_inches = 'tight', facecolor=\"cyan\", dpi = 300)"
   ]
  },
  {
   "cell_type": "code",
   "execution_count": null,
   "id": "a876bc64-cfae-4fdd-9330-1ad60dace221",
   "metadata": {},
   "outputs": [],
   "source": [
    "import matplotlib as mpl\n",
    "\n",
    "marker_styles = mpl.markers.MarkerStyle.markers.keys()\n",
    "print(marker_styles)\n",
    "print()\n",
    "\n",
    "colors = mpl.colors.cnames.keys()\n",
    "print(colors)\n",
    "print(len(colors))\n",
    "print()\n",
    "\n",
    "linestyles = mpl.lines.lineStyles.keys()\n",
    "print(linestyles)\n",
    "print()"
   ]
  },
  {
   "cell_type": "code",
   "execution_count": null,
   "id": "9de7c464-5c6a-49f2-a257-2ce6ab1e0c95",
   "metadata": {},
   "outputs": [],
   "source": [
    "i = 0\n",
    "\n",
    "for style in linestyles:\n",
    "    x_values = np.arange(2, dtype=float)\n",
    "    y_values = float(i) * np.ones(2)\n",
    "    plt.plot(x_values, y_values, linestyle=style, color='black', linewidth=3)\n",
    "    i+=1"
   ]
  },
  {
   "cell_type": "code",
   "execution_count": null,
   "id": "396d8c31-80e8-431b-a875-83c12980caf8",
   "metadata": {},
   "outputs": [],
   "source": [
    "help(plt.plot)"
   ]
  },
  {
   "cell_type": "code",
   "execution_count": null,
   "id": "b40c1f78-dfe2-4957-9ebc-6bfd6469c56c",
   "metadata": {},
   "outputs": [],
   "source": []
  }
 ],
 "metadata": {
  "kernelspec": {
   "display_name": "Python 3 (ipykernel)",
   "language": "python",
   "name": "python3"
  },
  "language_info": {
   "codemirror_mode": {
    "name": "ipython",
    "version": 3
   },
   "file_extension": ".py",
   "mimetype": "text/x-python",
   "name": "python",
   "nbconvert_exporter": "python",
   "pygments_lexer": "ipython3",
   "version": "3.10.11"
  }
 },
 "nbformat": 4,
 "nbformat_minor": 5
}
