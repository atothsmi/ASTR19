{
 "cells": [
  {
   "cell_type": "markdown",
   "id": "f2012805-e662-4522-8c38-f598c3f4a798",
   "metadata": {},
   "source": [
    "## Tables in Python and Jupyter\n",
    "\n",
    "How to print data tables with **tabulate** and **astropy** packages"
   ]
  },
  {
   "cell_type": "code",
   "execution_count": 2,
   "id": "2391bac6-1bd4-4bcd-a1aa-59704e25013d",
   "metadata": {},
   "outputs": [],
   "source": [
    "import numpy as np\n",
    "from tabulate import tabulate\n",
    "from astropy.table import Table"
   ]
  },
  {
   "cell_type": "code",
   "execution_count": 5,
   "id": "ebcd77f7-823a-4c90-9245-112de5dae145",
   "metadata": {},
   "outputs": [],
   "source": [
    "#Generate an array of x and y values\n",
    "x = np.linspace(-2.0, 2.0, 10) #generate 10 values between -2 and +2\n",
    "y = 1.0 / (1.0 + x**2)"
   ]
  },
  {
   "cell_type": "markdown",
   "id": "c881ed93-2999-4105-96dc-ea47cf98dfd9",
   "metadata": {},
   "source": [
    "Table using tabulate"
   ]
  },
  {
   "cell_type": "code",
   "execution_count": 9,
   "id": "24101abb-9c12-446d-936f-b84e976bab56",
   "metadata": {},
   "outputs": [
    {
     "name": "stdout",
     "output_type": "stream",
     "text": [
      "     x      y\n",
      "------  -----\n",
      "-2.000  0.200\n",
      "-1.556  0.292\n",
      "-1.111  0.448\n",
      "-0.667  0.692\n",
      "-0.222  0.953\n",
      " 0.222  0.953\n",
      " 0.667  0.692\n",
      " 1.111  0.448\n",
      " 1.556  0.292\n",
      " 2.000  0.200\n"
     ]
    }
   ],
   "source": [
    "#create a list of tuples containing x and y values\n",
    "table_data = [(a,b) for a,b in zip(x,y)]\n",
    "\n",
    "#Print the table using tabulate\n",
    "table_headers = ['x', 'y']\n",
    "print(tabulate(table_data,  headers = table_headers, floatfmt=\".3f\"))\n"
   ]
  },
  {
   "cell_type": "markdown",
   "id": "277d25b5-5d16-4cf3-89c3-b883945993d3",
   "metadata": {},
   "source": [
    "Table using astropy"
   ]
  },
  {
   "cell_type": "code",
   "execution_count": 14,
   "id": "a35b762c-fb9f-45ab-937f-dcd9fbafafcc",
   "metadata": {},
   "outputs": [
    {
     "name": "stdout",
     "output_type": "stream",
     "text": [
      "  x      y  \n",
      "------ -----\n",
      "-2.000 0.200\n",
      "-1.556 0.292\n",
      "-1.111 0.448\n",
      "-0.667 0.692\n",
      "-0.222 0.953\n",
      " 0.222 0.953\n",
      " 0.667 0.692\n",
      " 1.111 0.448\n",
      " 1.556 0.292\n",
      " 2.000 0.200\n"
     ]
    }
   ],
   "source": [
    "#Create an Astropy Table\n",
    "data_table = Table()      #create empty astropy table\n",
    "data_table[\"x\"] = x\n",
    "data_table[\"y\"] = y\n",
    "\n",
    "data_table[\"x\"].format = \"{:.3f}\"\n",
    "data_table[\"y\"].format = \"{:.3f}\"\n",
    "\n",
    "print(data_table)"
   ]
  },
  {
   "cell_type": "code",
   "execution_count": 16,
   "id": "0a202633-7b58-4d48-9552-efb7f8beed8a",
   "metadata": {},
   "outputs": [
    {
     "data": {
      "text/html": [
       "<i>Table length=10</i>\n",
       "<table id=\"table1943654891472-25257\" class=\"table-striped table-bordered table-condensed\">\n",
       "<thead><tr><th>idx</th><th>x</th><th>y</th></tr></thead>\n",
       "<tr><td>0</td><td>-2.000</td><td>0.200</td></tr>\n",
       "<tr><td>1</td><td>-1.556</td><td>0.292</td></tr>\n",
       "<tr><td>2</td><td>-1.111</td><td>0.448</td></tr>\n",
       "<tr><td>3</td><td>-0.667</td><td>0.692</td></tr>\n",
       "<tr><td>4</td><td>-0.222</td><td>0.953</td></tr>\n",
       "<tr><td>5</td><td>0.222</td><td>0.953</td></tr>\n",
       "<tr><td>6</td><td>0.667</td><td>0.692</td></tr>\n",
       "<tr><td>7</td><td>1.111</td><td>0.448</td></tr>\n",
       "<tr><td>8</td><td>1.556</td><td>0.292</td></tr>\n",
       "<tr><td>9</td><td>2.000</td><td>0.200</td></tr>\n",
       "</table><style>table.dataTable {clear: both; width: auto !important; margin: 0 !important;}\n",
       ".dataTables_info, .dataTables_length, .dataTables_filter, .dataTables_paginate{\n",
       "display: inline-block; margin-right: 1em; }\n",
       ".paginate_button { margin-right: 5px; }\n",
       "</style>\n",
       "<script>\n",
       "\n",
       "var astropy_sort_num = function(a, b) {\n",
       "    var a_num = parseFloat(a);\n",
       "    var b_num = parseFloat(b);\n",
       "\n",
       "    if (isNaN(a_num) && isNaN(b_num))\n",
       "        return ((a < b) ? -1 : ((a > b) ? 1 : 0));\n",
       "    else if (!isNaN(a_num) && !isNaN(b_num))\n",
       "        return ((a_num < b_num) ? -1 : ((a_num > b_num) ? 1 : 0));\n",
       "    else\n",
       "        return isNaN(a_num) ? -1 : 1;\n",
       "}\n",
       "\n",
       "require.config({paths: {\n",
       "    datatables: 'https://cdn.datatables.net/1.10.12/js/jquery.dataTables.min'\n",
       "}});\n",
       "require([\"datatables\"], function(){\n",
       "    console.log(\"$('#table1943654891472-25257').dataTable()\");\n",
       "    \n",
       "jQuery.extend( jQuery.fn.dataTableExt.oSort, {\n",
       "    \"optionalnum-asc\": astropy_sort_num,\n",
       "    \"optionalnum-desc\": function (a,b) { return -astropy_sort_num(a, b); }\n",
       "});\n",
       "\n",
       "    $('#table1943654891472-25257').dataTable({\n",
       "        order: [],\n",
       "        pageLength: 50,\n",
       "        lengthMenu: [[10, 25, 50, 100, 500, 1000, -1], [10, 25, 50, 100, 500, 1000, 'All']],\n",
       "        pagingType: \"full_numbers\",\n",
       "        columnDefs: [{targets: [0, 1, 2], type: \"optionalnum\"}]\n",
       "    });\n",
       "});\n",
       "</script>\n"
      ],
      "text/plain": [
       "<IPython.core.display.HTML object>"
      ]
     },
     "execution_count": 16,
     "metadata": {},
     "output_type": "execute_result"
    }
   ],
   "source": [
    "data_table.show_in_notebook()"
   ]
  },
  {
   "cell_type": "markdown",
   "id": "0313b9d8-8294-4017-adbf-753e0de550e6",
   "metadata": {},
   "source": [
    "Read and Write table in file using ASCII"
   ]
  },
  {
   "cell_type": "code",
   "execution_count": 18,
   "id": "ee80ac9b-b6f1-4514-b841-18118612b127",
   "metadata": {},
   "outputs": [],
   "source": [
    "from astropy.io import ascii\n",
    "\n",
    "ascii.write(data_table, 'table_ascii.txt', format='commented_header', overwrite=True)"
   ]
  },
  {
   "cell_type": "code",
   "execution_count": 20,
   "id": "b3a57e6f-e589-40c6-946a-5d797ef3bab7",
   "metadata": {},
   "outputs": [
    {
     "name": "stdout",
     "output_type": "stream",
     "text": [
      "  x      y  \n",
      "------ -----\n",
      "  -2.0   0.2\n",
      "-1.556 0.292\n",
      "-1.111 0.448\n",
      "-0.667 0.692\n",
      "-0.222 0.953\n",
      " 0.222 0.953\n",
      " 0.667 0.692\n",
      " 1.111 0.448\n",
      " 1.556 0.292\n",
      "   2.0   0.2\n"
     ]
    }
   ],
   "source": [
    "data_ascii = ascii.read('table_ascii.txt')\n",
    "print(data_ascii)"
   ]
  },
  {
   "cell_type": "markdown",
   "id": "bb18d86c-51f2-458f-a6bf-1dac611ee52a",
   "metadata": {},
   "source": [
    "Write a table using numpy"
   ]
  },
  {
   "cell_type": "code",
   "execution_count": 23,
   "id": "f2db1fcf-5d58-4d8b-a380-26e88c8b709f",
   "metadata": {},
   "outputs": [],
   "source": [
    "np.savetxt('table_numpy.txt', data_table)"
   ]
  },
  {
   "cell_type": "code",
   "execution_count": 24,
   "id": "5aba9a38-2055-48df-beab-7926d18c7611",
   "metadata": {},
   "outputs": [
    {
     "name": "stdout",
     "output_type": "stream",
     "text": [
      "[[-2.          0.2       ]\n",
      " [-1.55555556  0.29241877]\n",
      " [-1.11111111  0.44751381]\n",
      " [-0.66666667  0.69230769]\n",
      " [-0.22222222  0.95294118]\n",
      " [ 0.22222222  0.95294118]\n",
      " [ 0.66666667  0.69230769]\n",
      " [ 1.11111111  0.44751381]\n",
      " [ 1.55555556  0.29241877]\n",
      " [ 2.          0.2       ]]\n"
     ]
    }
   ],
   "source": [
    "data_numpy = np.loadtxt('table_numpy.txt')\n",
    "print(data_numpy)"
   ]
  },
  {
   "cell_type": "code",
   "execution_count": 26,
   "id": "8b1c6d4b-c434-41b8-ae67-b67ed252af14",
   "metadata": {},
   "outputs": [
    {
     "name": "stdout",
     "output_type": "stream",
     "text": [
      "[-1.11111111 -0.66666667 -0.22222222  0.22222222  0.66666667  1.11111111\n",
      "  1.55555556  2.        ]\n"
     ]
    }
   ],
   "source": [
    "data_unpack = np.loadtxt('table_numpy.txt', unpack = True, skiprows=2, usecols=(0))\n",
    "print(data_unpack)"
   ]
  },
  {
   "cell_type": "code",
   "execution_count": null,
   "id": "acc8eb78-44db-4b62-8812-5468055da122",
   "metadata": {},
   "outputs": [],
   "source": []
  }
 ],
 "metadata": {
  "kernelspec": {
   "display_name": "Python 3 (ipykernel)",
   "language": "python",
   "name": "python3"
  },
  "language_info": {
   "codemirror_mode": {
    "name": "ipython",
    "version": 3
   },
   "file_extension": ".py",
   "mimetype": "text/x-python",
   "name": "python",
   "nbconvert_exporter": "python",
   "pygments_lexer": "ipython3",
   "version": "3.10.11"
  }
 },
 "nbformat": 4,
 "nbformat_minor": 5
}
