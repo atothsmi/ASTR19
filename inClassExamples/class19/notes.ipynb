{
 "cells": [
  {
   "cell_type": "markdown",
   "metadata": {},
   "source": [
    "# Central Limit Theorem\n",
    "\n",
    "\"The distribution of mean values for an experiment tends to be a Normal distribution (i.e., a Gaussian normalized to unit area), regardless of the distribution from which the mean was derived.\"\n",
    "\n",
    "distribution P(x)\n",
    "Draw n independent values \n",
    "for each set of values compute mean\n",
    "When n tends to infinity P(Un) tends to be gaussian, no matter what P(x) is."
   ]
  },
  {
   "cell_type": "code",
   "execution_count": null,
   "metadata": {},
   "outputs": [],
   "source": []
  }
 ],
 "metadata": {
  "language_info": {
   "name": "python"
  }
 },
 "nbformat": 4,
 "nbformat_minor": 2
}
