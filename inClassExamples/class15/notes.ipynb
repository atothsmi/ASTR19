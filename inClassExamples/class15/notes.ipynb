{
 "cells": [
  {
   "cell_type": "markdown",
   "metadata": {},
   "source": [
    "# Linear Regression\n",
    "\n",
    "Consider y = mx+b\n",
    "Goal: Determine best m and b for given data\n",
    "\n",
    "Derivative of the sum of i=1 to n of [y(i) - (mx(i) + b)^2]"
   ]
  },
  {
   "cell_type": "markdown",
   "metadata": {},
   "source": [
    "# REgression as Curve Fitting\n",
    "\n",
    "compute and then iteratively descend down the loss curve\n",
    "machine learning methods like TensorFlow do this to minimize loss"
   ]
  },
  {
   "cell_type": "markdown",
   "metadata": {},
   "source": [
    "# TensorFlow vs scipy's curve_fit\n",
    "\n",
    "optimize.curve_fit uses algorithm specifically tailored for curve fitting\n",
    "\n",
    "TensorFlow is a much more genral framework that is haighly customizable and can deal with more complex models and large datasets, and train neural networks\n",
    "\n"
   ]
  },
  {
   "cell_type": "markdown",
   "metadata": {},
   "source": [
    "Lin fit should not be used alone to draw a conclusion\n",
    "\n",
    "Must always be a justification to a linear fit (predition of a theory, expectation of a trend, etc)"
   ]
  },
  {
   "cell_type": "markdown",
   "metadata": {},
   "source": []
  }
 ],
 "metadata": {
  "language_info": {
   "name": "python"
  }
 },
 "nbformat": 4,
 "nbformat_minor": 2
}
