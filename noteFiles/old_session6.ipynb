{
 "cells": [
  {
   "cell_type": "markdown",
   "metadata": {},
   "source": [
    "Session Prompt:\n",
    "\n",
    "Create a Jupyter Notebook where, in separate cells, you define functions that return sin(x) and cos(x). Use Markdown cells to comment your Notebook, and describe what each function does. Create a third Python cell that will tabulate sin(x) and cos(x) using these previously defined functions vs. x, where x is tabulated between 0 and 2pi with a thousand entries. Write a fourth Python cell that will use a for loop to print out the first 10 values of x, sin(x), and cos(x) in columns."
   ]
  },
  {
   "cell_type": "code",
   "execution_count": 1,
   "metadata": {},
   "outputs": [],
   "source": [
    "import math as m\n",
    "import numpy as np\n",
    "from astropy.table import Table  #imports Table class\n",
    "from astropy.io import ascii #ascii plan text io (input/output)"
   ]
  },
  {
   "cell_type": "markdown",
   "metadata": {},
   "source": [
    "This function returns sin(x) using sin(x) from the np module."
   ]
  },
  {
   "cell_type": "code",
   "execution_count": 2,
   "metadata": {},
   "outputs": [],
   "source": [
    "def sin(x):\n",
    "    return np.sin(x)"
   ]
  },
  {
   "cell_type": "markdown",
   "metadata": {},
   "source": [
    "This function returns cos(x) using cos(x) from the numpy module."
   ]
  },
  {
   "cell_type": "code",
   "execution_count": 3,
   "metadata": {},
   "outputs": [],
   "source": [
    "def cos(x):\n",
    "    return np.cos(x)"
   ]
  },
  {
   "cell_type": "markdown",
   "metadata": {},
   "source": [
    "This function creates a table of x vs sin(x) vs cos(x)"
   ]
  },
  {
   "cell_type": "code",
   "execution_count": 4,
   "metadata": {},
   "outputs": [],
   "source": [
    "def tableCosSin(x, fname):\n",
    "    xArray = np.linspace(0, 2*m.pi, x)\n",
    "    c = cos(xArray)\n",
    "    s = sin(xArray)\n",
    "\n",
    "    data = Table([xArray, s, c], names=['x', 'sin(x)', 'cos(x)'])\n",
    "\n",
    "    with open(fname, \"w+\") as f:\n",
    "        ascii.write(data, f, format='commented_header', overwrite =True)"
   ]
  },
  {
   "cell_type": "code",
   "execution_count": 5,
   "metadata": {},
   "outputs": [
    {
     "name": "stdout",
     "output_type": "stream",
     "text": [
      "         x                  sin(x)               cos(x)       \n",
      "                 0.0                  0.0                  1.0\n",
      "0.006289474781961547 0.006289433316067751   0.9999802213186832\n",
      "0.012578949563923095 0.012578617838741058   0.9999208860571255\n",
      "0.018868424345884642  0.01886730478446709   0.9998219965624732\n",
      " 0.02515789912784619 0.025155245389375847   0.9996835567465339\n",
      " 0.03144737390980774   0.0314421909191206   0.9995055720856215\n",
      "0.037736848691769284  0.03772789267871718     0.99928804962034\n",
      " 0.04402632347373083  0.04401210202238166   0.9990309979553044\n",
      " 0.05031579825569238  0.05029457036336618   0.9987344272588006\n",
      "0.056605273037653926 0.056575049183792345   0.9983983492623831\n"
     ]
    }
   ],
   "source": [
    "def main():\n",
    "    fname = \"outputs\\session6Table.txt\"\n",
    "\n",
    "    tableCosSin(1000, fname)\n",
    "    \n",
    "    data = np.genfromtxt(fname)\n",
    "\n",
    "    print(\"{x:^20} {y:^20} {z:^20}\".format(x='x', y='sin(x)', z='cos(x)'))\n",
    "\n",
    "    for i in range(10):\n",
    "        print(f\"{data[i][0]:>20} {data[i][1]:>20} {data[i][2]:>20}\")\n",
    "\n",
    "if __name__ == '__main__':\n",
    "    main()"
   ]
  }
 ],
 "metadata": {
  "kernelspec": {
   "display_name": "Python 3",
   "language": "python",
   "name": "python3"
  },
  "language_info": {
   "codemirror_mode": {
    "name": "ipython",
    "version": 3
   },
   "file_extension": ".py",
   "mimetype": "text/x-python",
   "name": "python",
   "nbconvert_exporter": "python",
   "pygments_lexer": "ipython3",
   "version": "3.10.11"
  }
 },
 "nbformat": 4,
 "nbformat_minor": 2
}
