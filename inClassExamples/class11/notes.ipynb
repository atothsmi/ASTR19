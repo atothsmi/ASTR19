{
 "cells": [
  {
   "cell_type": "markdown",
   "metadata": {},
   "source": [
    "# Session 11 Notes"
   ]
  },
  {
   "cell_type": "markdown",
   "metadata": {},
   "source": [
    "Uncertainty = lack of perfect info about the value of a measured quantity\n",
    "\n",
    "Important to assess how well we can believe the meansurement by quantifying its uncertainty\n",
    "\n",
    "What you measure is one possible outcome of the measurement, measurement may change upon repetition\n",
    "\n",
    "Use sigma () to show how well we believe the measurements, higher = higher variation\n",
    "\n",
    "Histograms can tell information about distribution of samples\n",
    "- more data helps to make better predictions\n",
    "\n",
    "Essential Statistics\n",
    "\n",
    "    Mean (average) = 1/n * sum(i = 0 to i = n-1)\n",
    "        Python: mean_x = np.mean(x)\n",
    "        More: see - class8/histograms.ipynb\n",
    "\n",
    "    Median\n",
    "        value for x for which half the samples are smaller and the other half are larger\n",
    "        sort all elements low to high, median is middle element\n",
    "        shows level of asymetry of distribution\n",
    "            - farther from mean, more asymmetric \n",
    "        Python: median_x = np.median(x)\n",
    "        More: see - class8/histograms.ipynb\n",
    "\n",
    "    Standard deviation\n",
    "        root distance between samples x and their mean value\n",
    "        scatter of elements\n",
    "        unit of std is same unit as distribution itself\n",
    "            - ex. distribution in length (cm), std in length (cm)\n",
    "        Python: std_x = np.std(x)\n",
    "\n",
    "    Variance\n",
    "        square of the standard deviation\n",
    "        uncertainties add in quadrature, not linearly\n",
    "        so find uncertainty of the sum of random variables we add their variances\n",
    "        always true for two independent variables\n",
    "        Ex. Define a new quantity that is the sum of two random variables\n",
    "            z = x + y\n",
    "            The variance of the new quantity is the sum ofthe variances of the two random variables\n",
    "            std of the new quanitty is the square root of the sum of the variances of the two random variables\n",
    "        Python: var_x = np.var(x)\n",
    "\n",
    "    "
   ]
  },
  {
   "cell_type": "markdown",
   "metadata": {},
   "source": []
  }
 ],
 "metadata": {
  "kernelspec": {
   "display_name": "Python 3",
   "language": "python",
   "name": "python3"
  },
  "language_info": {
   "codemirror_mode": {
    "name": "ipython",
    "version": 3
   },
   "file_extension": ".py",
   "mimetype": "text/x-python",
   "name": "python",
   "nbconvert_exporter": "python",
   "pygments_lexer": "ipython3",
   "version": "3.10.11"
  }
 },
 "nbformat": 4,
 "nbformat_minor": 2
}
