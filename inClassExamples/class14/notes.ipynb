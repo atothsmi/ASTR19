{
 "cells": [
  {
   "cell_type": "markdown",
   "metadata": {},
   "source": [
    "# Beautiful Plots: Resetting the Defaults\n",
    "\n",
    "defaul style files! yay!\n",
    "load to reset the matplotlib defaults and give self a headstart\n",
    "\n",
    "Units for size of ticks is points 1/72 inches\n"
   ]
  },
  {
   "cell_type": "markdown",
   "metadata": {},
   "source": [
    "# Good practices for styles\n",
    "\n",
    "Good style can improve clarity for the reader!\n",
    "Bad style can be confusing!\n",
    "\n",
    "Color schemes and styles act as visual cues to guide the reader through the elements.\n",
    "Schemes are your own, experiment!\n",
    "\n",
    "## Good Practices\n",
    "\n",
    "1. use a color gradient to mark the evolution of something\n",
    "2. the darkest line is the first line the eye sees\n",
    "3. light colors have a black contour otherwise too faint\n",
    "4. data points clearly indicate regions of clustering or scatter\n",
    "5. multiple models shown, labels added to the legend\n",
    "\n",
    "\n",
    "## Bad practices\n",
    "1. weird aspect rations\n",
    "2. color scheme doesn't make sense\n",
    "3. data points are too small and too faint\n",
    "4. don't clutter your figure!"
   ]
  }
 ],
 "metadata": {
  "language_info": {
   "name": "python"
  }
 },
 "nbformat": 4,
 "nbformat_minor": 2
}
