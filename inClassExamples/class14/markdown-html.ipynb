{
 "cells": [
  {
   "cell_type": "markdown",
   "metadata": {},
   "source": [
    "# Markdown cells can use HTML\n",
    "\n",
    "What fancy stuff can we do with them?"
   ]
  },
  {
   "cell_type": "raw",
   "metadata": {},
   "source": [
    "<b>bold text</b> or **bold text**\n",
    "\n",
    "<i>italic text</i> or *italic text*\n",
    "\n",
    "<u>underline</u>\n",
    "\n",
    "<s>strikethrough</s>"
   ]
  },
  {
   "cell_type": "markdown",
   "metadata": {},
   "source": [
    "<b>bold text</b> or **bold text**\n",
    "\n",
    "<i>italic text</i> or *italic text*\n",
    "\n",
    "<u>underline</u>\n",
    "\n",
    "<s>strikethrough</s>"
   ]
  },
  {
   "cell_type": "raw",
   "metadata": {},
   "source": [
    "Unordered lists:\n",
    "* salad\n",
    "-  tomato\n",
    "+ onion\n",
    "\n",
    "Ordered lists:\n",
    "\n",
    "1. Lecture 1\n",
    "2. Lecture 2\n",
    "3. Lecture 3"
   ]
  },
  {
   "cell_type": "markdown",
   "metadata": {},
   "source": [
    "Unordered lists:\n",
    "* salad\n",
    "-  tomato\n",
    "+ onion\n",
    "\n",
    "Ordered lists:\n",
    "\n",
    "1. Lecture 1\n",
    "2. Lecture 2\n",
    "3. Lecture 3"
   ]
  },
  {
   "cell_type": "raw",
   "metadata": {},
   "source": [
    "Add images with <img src='url'></img>\n",
    "/!\\ Danger /!\\: Use internet links with caution, Contents of links may change!"
   ]
  },
  {
   "cell_type": "markdown",
   "metadata": {},
   "source": [
    "Create hyper links with <a href='url'>link text</a>"
   ]
  },
  {
   "cell_type": "raw",
   "metadata": {},
   "source": [
    "Horizontal rule: <hr>\n",
    "<hr style=''>"
   ]
  },
  {
   "cell_type": "markdown",
   "metadata": {},
   "source": [
    "Horizontal rule: <hr>\n",
    "<hr>"
   ]
  }
 ],
 "metadata": {
  "kernelspec": {
   "display_name": "Python 3",
   "language": "python",
   "name": "python3"
  },
  "language_info": {
   "codemirror_mode": {
    "name": "ipython",
    "version": 3
   },
   "file_extension": ".py",
   "mimetype": "text/x-python",
   "name": "python",
   "nbconvert_exporter": "python",
   "pygments_lexer": "ipython3",
   "version": "3.10.11"
  }
 },
 "nbformat": 4,
 "nbformat_minor": 2
}
