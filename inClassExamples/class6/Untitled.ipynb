{
 "cells": [
  {
   "cell_type": "markdown",
   "id": "f2012805-e662-4522-8c38-f598c3f4a798",
   "metadata": {},
   "source": [
    "## Tables in Python and Jupyter\n",
    "\n",
    "How to print data tables with **tabulate** and **astropy** packages"
   ]
  },
  {
   "cell_type": "code",
   "execution_count": 2,
   "id": "2391bac6-1bd4-4bcd-a1aa-59704e25013d",
   "metadata": {},
   "outputs": [],
   "source": [
    "import numpy as np\n",
    "from tabulate import tabulate\n",
    "from astropy.table import Table"
   ]
  },
  {
   "cell_type": "code",
   "execution_count": 5,
   "id": "ebcd77f7-823a-4c90-9245-112de5dae145",
   "metadata": {},
   "outputs": [],
   "source": [
    "#Generate an array of x and y values\n",
    "x = np.linspace(-2.0, 2.0, 10) #generate 10 values between -2 and +2\n",
    "y = 1.0 / (1.0 + x**2)"
   ]
  },
  {
   "cell_type": "markdown",
   "id": "c881ed93-2999-4105-96dc-ea47cf98dfd9",
   "metadata": {},
   "source": [
    "Table using tabulate"
   ]
  },
  {
   "cell_type": "code",
   "execution_count": 8,
   "id": "24101abb-9c12-446d-936f-b84e976bab56",
   "metadata": {},
   "outputs": [
    {
     "name": "stdout",
     "output_type": "stream",
     "text": [
      "        x         y\n",
      "---------  --------\n",
      "-2         0.2\n",
      "-1.55556   0.292419\n",
      "-1.11111   0.447514\n",
      "-0.666667  0.692308\n",
      "-0.222222  0.952941\n",
      " 0.222222  0.952941\n",
      " 0.666667  0.692308\n",
      " 1.11111   0.447514\n",
      " 1.55556   0.292419\n",
      " 2         0.2\n"
     ]
    }
   ],
   "source": [
    "#create a list of tuples containing x and y values\n",
    "table_data = [(a,b) for a,b in zip(x,y)]\n",
    "\n",
    "#Print the table using tabulate\n",
    "table_headers = ['x', 'y']\n",
    "print(tabulate(table_data,  headers = table_headers, floatfmt=\".3f\"))\n"
   ]
  },
  {
   "cell_type": "code",
   "execution_count": null,
   "id": "838dac6c-afa9-42d8-8786-b44916ea0106",
   "metadata": {},
   "outputs": [],
   "source": []
  }
 ],
 "metadata": {
  "kernelspec": {
   "display_name": "Python 3 (ipykernel)",
   "language": "python",
   "name": "python3"
  },
  "language_info": {
   "codemirror_mode": {
    "name": "ipython",
    "version": 3
   },
   "file_extension": ".py",
   "mimetype": "text/x-python",
   "name": "python",
   "nbconvert_exporter": "python",
   "pygments_lexer": "ipython3",
   "version": "3.10.11"
  }
 },
 "nbformat": 4,
 "nbformat_minor": 5
}
