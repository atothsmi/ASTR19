{
 "cells": [
  {
   "cell_type": "markdown",
   "metadata": {},
   "source": [
    "# Session 12 Notes\n",
    "\n",
    "What is exp():\n",
    "    To understand Gaussians consider: 2**x, e**x, 10**x\n",
    "    e**x\n",
    "        - special because only function whose slope is equal to the function for all x\n",
    "        - slope = x at x\n",
    "        - Access: np.exp(x)\n",
    "\n",
    "Lack of points leads to more uncertainty, a lot of data is needed to make any claims or to form any patterns\n",
    "\n",
    "Statistical Significance\n",
    "\n",
    "    attempts to describe how unusual a given event is in the context of our experimental or theoretical expectations\n",
    "    need to define what is expected in order to define what is unexpected\n",
    "\n",
    "    new events outside of distribution is an outlier\n",
    "        need to determine if it's important or not, statistically significant or other cause\n",
    "\n",
    "    1. Compute std sigma of the distribution\n",
    "    2. Report the ration N = x/sigma\n",
    "        \"N-sigma\" event, how many sigmas is the result away from normal?\n",
    "\n",
    "    these probabilies correspond to the area under the curve between the x/sigma of the event\n",
    "        - even at 3 sigma can have some statistical deviation\n",
    "    results at 4 or 5 sigma are exceedingly unlikely\n",
    "        - outlines at these sigmas are usually not significant\n",
    "        - 5 sigma significance is required for new particle discovery in particle physics"
   ]
  }
 ],
 "metadata": {
  "language_info": {
   "name": "python"
  }
 },
 "nbformat": 4,
 "nbformat_minor": 2
}
