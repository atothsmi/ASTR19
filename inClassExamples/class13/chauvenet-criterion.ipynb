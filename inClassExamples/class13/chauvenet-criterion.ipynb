{
 "cells": [
  {
   "cell_type": "markdown",
   "metadata": {},
   "source": [
    "# Estimate whether a given outlier can be ignored according to Chauvenet's criterion\n",
    "\n",
    "Assumes the distribution of prior measurements is pulled from a Gaussian distribution with mean and variance estimated from the prior measurements."
   ]
  },
  {
   "cell_type": "code",
   "execution_count": 1,
   "metadata": {},
   "outputs": [],
   "source": [
    "import sys\n",
    "import numpy as np\n",
    "from scipy.special import erf"
   ]
  },
  {
   "cell_type": "code",
   "execution_count": 2,
   "metadata": {},
   "outputs": [],
   "source": [
    "#computes the probability of an event\n",
    "#of magnitude x or greater from\n",
    "#a gaussian distribution\n",
    "def event_probability(x, mu=0.0, s=1.0):\n",
    "    #x is the value of the event\n",
    "    #mu is the gaussian mean (default 0.0)\n",
    "    #s is the std dev (default 1.0)\n",
    "\n",
    "    #s is how many sigma away x is from the mean\n",
    "    z = np.fabs((x-mu)/s)\n",
    "\n",
    "    return 1.0 - erf(z/np.sqrt(2))"
   ]
  },
  {
   "cell_type": "code",
   "execution_count": 5,
   "metadata": {},
   "outputs": [],
   "source": [
    "def chauvenet_criterion(prior_measurements, outlier):\n",
    "    #prior_measurements is our set of previous measurements\n",
    "    #outlier is the value we want to check\n",
    "\n",
    "    #returns True if the outlier can be discarded\n",
    "    #returns False if the outlier cannot be immediately discarded\n",
    "\n",
    "    #compute mean and std of prior measurements\n",
    "    #and assume these are representative of the gaussian\n",
    "    mean = np.mean(prior_measurements)\n",
    "    std = np.std(prior_measurements)\n",
    "\n",
    "    #compute the probability of the outlier\n",
    "    outlier_probability = event_probability(outlier, mu=mean, s=std)\n",
    "\n",
    "    #get the number of events, include new outlier\n",
    "    N = len(prior_measurements) + 1\n",
    "\n",
    "    #check Chauvenet's criterion\n",
    "    if (N * outlier_probability < 0.5) :\n",
    "        return True\n",
    "    \n",
    "    #if we are here in the code, then the above condition was false\n",
    "    #we cannot discard the outlier\n",
    "    return False"
   ]
  },
  {
   "cell_type": "markdown",
   "metadata": {},
   "source": [
    "Test Chauvenet's criterion using a real Gaussian distribution and a 5 -sigma outlier"
   ]
  },
  {
   "cell_type": "code",
   "execution_count": 37,
   "metadata": {},
   "outputs": [
    {
     "name": "stdout",
     "output_type": "stream",
     "text": [
      "Can we reject an outlier 3.0 for N = 1000 samples? False\n"
     ]
    }
   ],
   "source": [
    "# pull 1000 random variates from a unit gaussian\n",
    "N = 1000\n",
    "x = np.random.normal(0.0, 1.0, N)\n",
    "\n",
    "#make an outlier\n",
    "outlier = 3.0\n",
    "\n",
    "#check Chauvenet's criterion\n",
    "answer = chauvenet_criterion(x, outlier)\n",
    "\n",
    "print(f'Can we reject an outlier {outlier} for N = {N} samples? {answer}')"
   ]
  },
  {
   "cell_type": "code",
   "execution_count": null,
   "metadata": {},
   "outputs": [],
   "source": []
  }
 ],
 "metadata": {
  "kernelspec": {
   "display_name": "Python 3",
   "language": "python",
   "name": "python3"
  },
  "language_info": {
   "codemirror_mode": {
    "name": "ipython",
    "version": 3
   },
   "file_extension": ".py",
   "mimetype": "text/x-python",
   "name": "python",
   "nbconvert_exporter": "python",
   "pygments_lexer": "ipython3",
   "version": "3.10.11"
  }
 },
 "nbformat": 4,
 "nbformat_minor": 2
}
